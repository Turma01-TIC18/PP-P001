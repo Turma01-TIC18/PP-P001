{
 "cells": [
  {
   "cell_type": "code",
   "execution_count": 11,
   "id": "c897750d",
   "metadata": {},
   "outputs": [
    {
     "name": "stdout",
     "output_type": "stream",
     "text": [
      "O resultado da soma eh:  7\n",
      "O resultado da subtração eh:  1\n",
      "O resultado da multipllicação eh : 12\n",
      "O resultado da divisão eh:  4.0\n",
      "O resultado do resto da divisão eh:  0\n",
      "O resultado da exponenciação eh:  16\n",
      "O resultado da divisão inteira eh:  3\n"
     ]
    }
   ],
   "source": [
    "#Operadores Aritméticos - Python:\n",
    "\n",
    "#Adição:\n",
    "a = 4\n",
    "b = 3\n",
    "resultado = a + b\n",
    "print(\"O resultado da soma eh: \", resultado)\n",
    "\n",
    "#Subtração:\n",
    "a = 4\n",
    "b = 3\n",
    "resultado = a - b\n",
    "print(\"O resultado da subtração eh: \", resultado)\n",
    "\n",
    "#Multiplicação:\n",
    "a = 4\n",
    "b = 3\n",
    "resultado = a * b\n",
    "print(\"O resultado da multipllicação eh :\" , resultado)\n",
    "\n",
    "#Divisão:\n",
    "a = 8\n",
    "b = 2\n",
    "resultado = a / b\n",
    "print(\"O resultado da divisão eh: \", resultado)\n",
    "\n",
    "#Resto da divisão:\n",
    "a = 6\n",
    "b = 3\n",
    "resultado = a % b\n",
    "print(\"O resultado do resto da divisão eh: \", resultado)\n",
    "\n",
    "#Exponenciação:\n",
    "a = 4\n",
    "b = 2\n",
    "resultado = a ** b\n",
    "print(\"O resultado da exponenciação eh: \", resultado)\n",
    "\n",
    "#Divisão inteira:\n",
    "a = 10\n",
    "b = 3\n",
    "resultado = a // b\n",
    "print(\"O resultado da divisão inteira eh: \", resultado)\n",
    "\n",
    "    "
   ]
  },
  {
   "cell_type": "code",
   "execution_count": 23,
   "id": "64f6e478",
   "metadata": {},
   "outputs": [
    {
     "name": "stdout",
     "output_type": "stream",
     "text": [
      "x += 5 equivale a x =  x + 5. Resultado:  15\n",
      "x -= 5 equivale a x =  x - 5. Resultado:  5\n",
      "x *= 5 equivale a x =  x * 5. Exemplo:  50\n",
      "x /= 5 equivale a x =  x / 5. Exemplo:  2.0\n",
      "x %= 5 equivale a x =  x % 5. Exemplo:  0\n",
      "x **= 5 equivale a x =  x ** 5. Exemplo:  100000\n",
      "x //= 5 equivale a x =  x // 5. Exemplo:  2\n"
     ]
    }
   ],
   "source": [
    "#Operadores Aritméticos Compostos - Python:\n",
    "\n",
    "# +=\n",
    "x = 10\n",
    "x+=5\n",
    "print(\"x += 5 equivale a x =  x + 5. Resultado: \", x)\n",
    "\n",
    "# -=\n",
    "x = 10\n",
    "x-=5\n",
    "print(\"x -= 5 equivale a x =  x - 5. Resultado: \", x)\n",
    "\n",
    "# *=\n",
    "x = 10\n",
    "x*=5\n",
    "print(\"x *= 5 equivale a x =  x * 5. Exemplo: \", x)\n",
    "\n",
    "# /=\n",
    "x = 10\n",
    "x/=5\n",
    "print(\"x /= 5 equivale a x =  x / 5. Exemplo: \", x)\n",
    "\n",
    "# %=\n",
    "x = 10\n",
    "x%=5\n",
    "print(\"x %= 5 equivale a x =  x % 5. Exemplo: \", x)\n",
    "\n",
    "# **=\n",
    "x = 10\n",
    "x**=5\n",
    "print(\"x **= 5 equivale a x =  x ** 5. Exemplo: \", x)\n",
    "\n",
    "# //=\n",
    "x = 10\n",
    "x//=5\n",
    "print(\"x //= 5 equivale a x =  x // 5. Exemplo: \", x)"
   ]
  },
  {
   "cell_type": "code",
   "execution_count": 24,
   "id": "2809345a",
   "metadata": {},
   "outputs": [
    {
     "data": {
      "text/plain": [
       "'\\nEm C++ não é possível a utilização de ** (potenciação) e // (divisão inteira),\\ncomo em Python utilizando desses operadores.\\n\\nEm C++ - Operadores aritméticos:\\n    • + para adição\\n    • - para subtração\\n    • * para multiplicação\\n    • / para divisão\\n    • % para módulo (resto da divisão)\\n    \\nOperadores aritméticos compostos:\\n    • += para adição e atribuição (x += 5 é equivalente a x = x + 5)\\n    • -= para subtração e atribuição\\n    • *= para multiplicação e atribuição\\n    • /= para divisão e atribuição\\n    • %= para módulo e atribuição\\n'"
      ]
     },
     "execution_count": 24,
     "metadata": {},
     "output_type": "execute_result"
    }
   ],
   "source": [
    "#Diferenças entre Operadores em Python e C++\n",
    "\n",
    "\"\"\"\n",
    "Em C++ não é possível a utilização de ** (potenciação) e // (divisão inteira),\n",
    "como em Python, utilizando desses operadores mencionados.\n",
    "\n",
    "Em C++ - Operadores aritméticos:\n",
    "    • + para adição\n",
    "    • - para subtração\n",
    "    • * para multiplicação\n",
    "    • / para divisão\n",
    "    • % para módulo (resto da divisão)\n",
    "    \n",
    "Em C++ - Operadores aritméticos compostos:\n",
    "    • += para adição e atribuição (x += 5 é equivalente a x = x + 5)\n",
    "    • -= para subtração e atribuição\n",
    "    • *= para multiplicação e atribuição\n",
    "    • /= para divisão e atribuição\n",
    "    • %= para módulo e atribuição\n",
    "\"\"\""
   ]
  },
  {
   "cell_type": "code",
   "execution_count": 32,
   "id": "098b38f3",
   "metadata": {},
   "outputs": [
    {
     "name": "stdout",
     "output_type": "stream",
     "text": [
      "A fatorial de 30 é: 265252859812191058636308480000000\n"
     ]
    }
   ],
   "source": [
    "#Fatorial em Python:\n",
    "\n",
    "numero = 30\n",
    "resultado = 1\n",
    "for i in range(1, numero + 1):\n",
    "    resultado *= i\n",
    "\n",
    "print(f'A fatorial de {numero} é: {resultado}')\n",
    "\n",
    "#Em Python existem uma maior tolerância a números extremamente grandes o que não acorre em c++. \n",
    "\n",
    "#Pesquisando na web encontrei a forma descrita abaixo, utilizando de usingned long long podemos calcular\n",
    "#a Fatorial de no máximo 20, sem trucancamento. Porém existe uma outra forma.\n",
    "\n",
    "#Importando a Biblioteca GMP: 1- sudo apt-get update; 2-sudo apt-get install libgmp-dev libgmpxx4ldbl.\n",
    "#Depois executando no terminal: 1- g++ -o fatorial fatorial.cpp -lgmpxx -lgmp; 2- ./fatorial\n",
    "\n",
    "#Com isso foi possível obter Fatorial 100 tranquilamente:\n",
    "\"\"\"\n",
    "Resultado: A fatorial de 100 é: 933262154439441526816992388562667004907159682643816214685929638952175999\n",
    "93229915608941463976156518286253697920827223758251185210916864000000000000000000000000\n",
    "\"\"\""
   ]
  },
  {
   "cell_type": "code",
   "execution_count": 33,
   "id": "82170240",
   "metadata": {},
   "outputs": [
    {
     "data": {
      "text/plain": [
       "'\\n#include <iostream>\\n\\nusing namespace std;\\n\\nint main() {\\n    int numero = 20; \\n    unsigned long long resultado = 1; //Este tipo pode representar números sem sinal até 18.446.744.073.709.551.615.\\n\\n    for (int i = 2; i <= numero; ++i) {\\n        resultado *= i;\\n    }\\n\\n    cout << \"A fatorial de \" << numero << \" é: \" << resultado << endl;\\n\\n    return 0;\\n}\\n'"
      ]
     },
     "execution_count": 33,
     "metadata": {},
     "output_type": "execute_result"
    }
   ],
   "source": [
    "#Fatorial em C++ utilizando usingned long long, sem importar Bibliotecas:\n",
    "\n",
    "\"\"\"\n",
    "#include <iostream>\n",
    "\n",
    "using namespace std;\n",
    "\n",
    "int main() {\n",
    "    int numero = 20; \n",
    "    unsigned long long resultado = 1; //Este tipo pode representar números sem sinal até 18.446.744.073.709.551.615.\n",
    "\n",
    "    for (int i = 2; i <= numero; ++i) {\n",
    "        resultado *= i;\n",
    "    }\n",
    "\n",
    "    cout << \"A fatorial de \" << numero << \" é: \" << resultado << endl;\n",
    "\n",
    "    return 0;\n",
    "}\n",
    "\"\"\"\n",
    "\n",
    "# Resultado do valor máximo sem truncamento: A fatorial de 20 é: 2432902008176640000."
   ]
  },
  {
   "cell_type": "code",
   "execution_count": 34,
   "id": "1a259121",
   "metadata": {},
   "outputs": [
    {
     "data": {
      "text/plain": [
       "'\\n#include <iostream>\\n#include <gmpxx.h>\\n\\nusing namespace std;\\n\\nint main() {\\n    int numero = 100; \\n    mpz_class resultado = 1;\\n\\n    for (int i = 2; i <= numero; ++i) {\\n        resultado *= i;\\n    }\\n\\n    cout << \"A fatorial de \" << numero << \" é: \" << resultado << endl;\\n\\n    return 0;\\n}\\n'"
      ]
     },
     "execution_count": 34,
     "metadata": {},
     "output_type": "execute_result"
    }
   ],
   "source": [
    "#Fatoria em C++ utilizando a Importação da Biblioteca GMP:\n",
    "\n",
    "\"\"\"\n",
    "#include <iostream>\n",
    "#include <gmpxx.h>\n",
    "\n",
    "using namespace std;\n",
    "\n",
    "int main() {\n",
    "    int numero = 100; \n",
    "    mpz_class resultado = 1;\n",
    "\n",
    "    for (int i = 2; i <= numero; ++i) {\n",
    "        resultado *= i;\n",
    "    }\n",
    "\n",
    "    cout << \"A fatorial de \" << numero << \" é: \" << resultado << endl;\n",
    "\n",
    "    return 0;\n",
    "}\n",
    "\"\"\"\n",
    "#Resultado: A fatorial de 100 é: 93326215443944152681699238856266700490715968264381621468592963895217599993229915608941463976156518286253697920827223758251185210916864000000000000000000000000"
   ]
  }
 ],
 "metadata": {
  "kernelspec": {
   "display_name": "Python 3 (ipykernel)",
   "language": "python",
   "name": "python3"
  },
  "language_info": {
   "codemirror_mode": {
    "name": "ipython",
    "version": 3
   },
   "file_extension": ".py",
   "mimetype": "text/x-python",
   "name": "python",
   "nbconvert_exporter": "python",
   "pygments_lexer": "ipython3",
   "version": "3.11.5"
  }
 },
 "nbformat": 4,
 "nbformat_minor": 5
}
