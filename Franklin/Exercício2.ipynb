{
 "cells": [
  {
   "cell_type": "code",
   "execution_count": 11,
   "id": "d6a5335f",
   "metadata": {},
   "outputs": [
    {
     "name": "stdout",
     "output_type": "stream",
     "text": [
      "O resultado da soma eh:  7\n",
      "O resultado da subtração eh:  1\n",
      "O resultado da multipllicação eh : 12\n",
      "O resultado da divisão eh:  4.0\n",
      "O resultado do resto da divisão eh:  0\n",
      "O resultado da exponenciação eh:  16\n",
      "O resultado da divisão inteira eh:  3\n"
     ]
    }
   ],
   "source": [
    "#Operadores Aritméticos - Python:\n",
    "\n",
    "#Adição:\n",
    "a = 4\n",
    "b = 3\n",
    "resultado = a + b\n",
    "print(\"O resultado da soma eh: \", resultado)\n",
    "\n",
    "#Subtração:\n",
    "a = 4\n",
    "b = 3\n",
    "resultado = a - b\n",
    "print(\"O resultado da subtração eh: \", resultado)\n",
    "\n",
    "#Multiplicação:\n",
    "a = 4\n",
    "b = 3\n",
    "resultado = a * b\n",
    "print(\"O resultado da multipllicação eh :\" , resultado)\n",
    "\n",
    "#Divisão:\n",
    "a = 8\n",
    "b = 2\n",
    "resultado = a / b\n",
    "print(\"O resultado da divisão eh: \", resultado)\n",
    "\n",
    "#Resto da divisão:\n",
    "a = 6\n",
    "b = 3\n",
    "resultado = a % b\n",
    "print(\"O resultado do resto da divisão eh: \", resultado)\n",
    "\n",
    "#Exponenciação:\n",
    "a = 4\n",
    "b = 2\n",
    "resultado = a ** b\n",
    "print(\"O resultado da exponenciação eh: \", resultado)\n",
    "\n",
    "#Divisão inteira:\n",
    "a = 10\n",
    "b = 3\n",
    "resultado = a // b\n",
    "print(\"O resultado da divisão inteira eh: \", resultado)\n",
    "\n",
    "    "
   ]
  },
  {
   "cell_type": "code",
   "execution_count": 23,
   "id": "f5877c7c",
   "metadata": {},
   "outputs": [
    {
     "name": "stdout",
     "output_type": "stream",
     "text": [
      "x += 5 equivale a x =  x + 5. Resultado:  15\n",
      "x -= 5 equivale a x =  x - 5. Resultado:  5\n",
      "x *= 5 equivale a x =  x * 5. Exemplo:  50\n",
      "x /= 5 equivale a x =  x / 5. Exemplo:  2.0\n",
      "x %= 5 equivale a x =  x % 5. Exemplo:  0\n",
      "x **= 5 equivale a x =  x ** 5. Exemplo:  100000\n",
      "x //= 5 equivale a x =  x // 5. Exemplo:  2\n"
     ]
    }
   ],
   "source": [
    "#Operadores Aritméticos Compostos - Python:\n",
    "\n",
    "# +=\n",
    "x = 10\n",
    "x+=5\n",
    "print(\"x += 5 equivale a x =  x + 5. Resultado: \", x)\n",
    "\n",
    "# -=\n",
    "x = 10\n",
    "x-=5\n",
    "print(\"x -= 5 equivale a x =  x - 5. Resultado: \", x)\n",
    "\n",
    "# *=\n",
    "x = 10\n",
    "x*=5\n",
    "print(\"x *= 5 equivale a x =  x * 5. Exemplo: \", x)\n",
    "\n",
    "# /=\n",
    "x = 10\n",
    "x/=5\n",
    "print(\"x /= 5 equivale a x =  x / 5. Exemplo: \", x)\n",
    "\n",
    "# %=\n",
    "x = 10\n",
    "x%=5\n",
    "print(\"x %= 5 equivale a x =  x % 5. Exemplo: \", x)\n",
    "\n",
    "# **=\n",
    "x = 10\n",
    "x**=5\n",
    "print(\"x **= 5 equivale a x =  x ** 5. Exemplo: \", x)\n",
    "\n",
    "# //=\n",
    "x = 10\n",
    "x//=5\n",
    "print(\"x //= 5 equivale a x =  x // 5. Exemplo: \", x)"
   ]
  },
  {
   "cell_type": "code",
   "execution_count": 24,
   "id": "59730a76",
   "metadata": {},
   "outputs": [
    {
     "data": {
      "text/plain": [
       "'\\nEm C++ não é possível a utilização de ** (potenciação) e // (divisão inteira),\\ncomo em Python utilizando desses operadores.\\n\\nEm C++ - Operadores aritméticos:\\n    • + para adição\\n    • - para subtração\\n    • * para multiplicação\\n    • / para divisão\\n    • % para módulo (resto da divisão)\\n    \\nOperadores aritméticos compostos:\\n    • += para adição e atribuição (x += 5 é equivalente a x = x + 5)\\n    • -= para subtração e atribuição\\n    • *= para multiplicação e atribuição\\n    • /= para divisão e atribuição\\n    • %= para módulo e atribuição\\n'"
      ]
     },
     "execution_count": 24,
     "metadata": {},
     "output_type": "execute_result"
    }
   ],
   "source": [
    "#Diferenças entre Operadores em Python e C++\n",
    "\n",
    "\"\"\"\n",
    "Em C++ não é possível a utilização de ** (potenciação) e // (divisão inteira),\n",
    "como em Python, utilizando desses operadores mencionados.\n",
    "\n",
    "Em C++ - Operadores aritméticos:\n",
    "    • + para adição\n",
    "    • - para subtração\n",
    "    • * para multiplicação\n",
    "    • / para divisão\n",
    "    • % para módulo (resto da divisão)\n",
    "    \n",
    "Em C++ - Operadores aritméticos compostos:\n",
    "    • += para adição e atribuição (x += 5 é equivalente a x = x + 5)\n",
    "    • -= para subtração e atribuição\n",
    "    • *= para multiplicação e atribuição\n",
    "    • /= para divisão e atribuição\n",
    "    • %= para módulo e atribuição\n",
    "\"\"\""
   ]
  },
  {
   "cell_type": "code",
   "execution_count": 32,
   "id": "c2b13639",
   "metadata": {},
   "outputs": [
    {
     "name": "stdout",
     "output_type": "stream",
     "text": [
      "A fatorial de 30 é: 265252859812191058636308480000000\n"
     ]
    }
   ],
   "source": [
    "#Fatorial em Python:\n",
    "\n",
    "numero = 30\n",
    "resultado = 1\n",
    "for i in range(1, numero + 1):\n",
    "    resultado *= i\n",
    "\n",
    "print(f'A fatorial de {numero} é: {resultado}')\n",
    "\n",
    "#Em Python existem uma maior tolerância a números extremamente grandes o que não acorre em c++. \n",
    "\n",
    "#Pesquisando na web encontrei a forma descrita abaixo, utilizando de usingned long long podemos calcular\n",
    "#a Fatorial de no máximo 20, sem trucancamento. Porém existe uma outra forma.\n",
    "\n",
    "#Importando a Biblioteca GMP: 1- sudo apt-get update; 2-sudo apt-get install libgmp-dev libgmpxx4ldbl.\n",
    "#Depois executando no terminal: 1- g++ -o fatorial fatorial.cpp -lgmpxx -lgmp; 2- ./fatorial\n",
    "\n",
    "#Com isso foi possível obter Fatorial 100 tranquilamente:\n",
    "\"\"\"\n",
    "Resultado: A fatorial de 100 é: 933262154439441526816992388562667004907159682643816214685929638952175999\n",
    "93229915608941463976156518286253697920827223758251185210916864000000000000000000000000\n",
    "\"\"\""
   ]
  },
  {
   "cell_type": "code",
   "execution_count": 33,
   "id": "820e0659",
   "metadata": {},
   "outputs": [
    {
     "data": {
      "text/plain": [
       "'\\n#include <iostream>\\n\\nusing namespace std;\\n\\nint main() {\\n    int numero = 20; \\n    unsigned long long resultado = 1; //Este tipo pode representar números sem sinal até 18.446.744.073.709.551.615.\\n\\n    for (int i = 2; i <= numero; ++i) {\\n        resultado *= i;\\n    }\\n\\n    cout << \"A fatorial de \" << numero << \" é: \" << resultado << endl;\\n\\n    return 0;\\n}\\n'"
      ]
     },
     "execution_count": 33,
     "metadata": {},
     "output_type": "execute_result"
    }
   ],
   "source": [
    "#Fatorial em C++ utilizando usingned long long, sem importar Bibliotecas:\n",
    "\n",
    "\"\"\"\n",
    "#include <iostream>\n",
    "\n",
    "using namespace std;\n",
    "\n",
    "int main() {\n",
    "    int numero = 20; \n",
    "    unsigned long long resultado = 1; //Este tipo pode representar números sem sinal até 18.446.744.073.709.551.615.\n",
    "\n",
    "    for (int i = 2; i <= numero; ++i) {\n",
    "        resultado *= i;\n",
    "    }\n",
    "\n",
    "    cout << \"A fatorial de \" << numero << \" é: \" << resultado << endl;\n",
    "\n",
    "    return 0;\n",
    "}\n",
    "\"\"\"\n",
    "\n",
    "# Resultado do valor máximo sem truncamento: A fatorial de 20 é: 2432902008176640000."
   ]
  },
  {
   "cell_type": "code",
   "execution_count": 34,
   "id": "961af72b",
   "metadata": {},
   "outputs": [
    {
     "data": {
      "text/plain": [
       "'\\n#include <iostream>\\n#include <gmpxx.h>\\n\\nusing namespace std;\\n\\nint main() {\\n    int numero = 100; \\n    mpz_class resultado = 1;\\n\\n    for (int i = 2; i <= numero; ++i) {\\n        resultado *= i;\\n    }\\n\\n    cout << \"A fatorial de \" << numero << \" é: \" << resultado << endl;\\n\\n    return 0;\\n}\\n'"
      ]
     },
     "execution_count": 34,
     "metadata": {},
     "output_type": "execute_result"
    }
   ],
   "source": [
    "#Fatoria em C++ utilizando a Importação da Biblioteca GMP:\n",
    "\n",
    "\"\"\"\n",
    "#include <iostream>\n",
    "#include <gmpxx.h>\n",
    "\n",
    "using namespace std;\n",
    "\n",
    "int main() {\n",
    "    int numero = 100; \n",
    "    mpz_class resultado = 1;\n",
    "\n",
    "    for (int i = 2; i <= numero; ++i) {\n",
    "        resultado *= i;\n",
    "    }\n",
    "\n",
    "    cout << \"A fatorial de \" << numero << \" é: \" << resultado << endl;\n",
    "\n",
    "    return 0;\n",
    "}\n",
    "\"\"\"\n",
    "#Resultado: A fatorial de 100 é: 93326215443944152681699238856266700490715968264381621468592963895217599993229915608941463976156518286253697920827223758251185210916864000000000000000000000000"
   ]
  },
  {
   "cell_type": "code",
   "execution_count": 40,
   "id": "7c76e5b3",
   "metadata": {},
   "outputs": [
    {
     "name": "stdout",
     "output_type": "stream",
     "text": [
      "Exibir Num 1:  38\n",
      "Exibir Num 2:  38\n",
      "Exibir Num 1:  Franklin\n",
      "Exibir Num 2:  38\n",
      "Exibir Num 1:  2.0\n",
      "Exibir Num 2:  40\n"
     ]
    }
   ],
   "source": [
    "num1 = 38\n",
    "num2 = num1\n",
    "\n",
    "print(\"Exibir Num 1: \", num1)\n",
    "print(\"Exibir Num 2: \", num2)\n",
    "\n",
    "num1 = \"Franklin\"\n",
    "\n",
    "print(\"Exibir Num 1: \", num1)\n",
    "print(\"Exibir Num 2: \", num2)\n",
    "\n",
    "num2 += 2\n",
    "num1 = 2.0\n",
    "\n",
    "print(\"Exibir Num 1: \", num1)\n",
    "print(\"Exibir Num 2: \", num2)\n",
    "\n",
    "#A variável num2 pegou a referência de num1, mas quando num1 é alterada em seu tipo a variável num2 continua\n",
    "#normalmente com o valor de referência anterior e somente a num1 é que foi alterada porque em Python as\n",
    "#variáveis numéricas são imutáveis."
   ]
  },
  {
   "cell_type": "code",
   "execution_count": null,
   "id": "bba0d205",
   "metadata": {},
   "outputs": [],
   "source": [
    "#Exibindo os métodos para disponíveis para variáveis inteiras:\n",
    "\n",
    "#Comando: 1- x = 5; 2- print(dir(x))\n",
    "\n",
    "\"\"\"\n",
    "['__abs__', '__add__', '__and__', '__bool__', '__ceil__', '__class__', '__delattr__', '__dir__', '__divmod__',\n",
    "'__doc__', '__eq__', '__float__', '__floor__', '__floordiv__', '__format__', '__ge__', '__getattribute__', '\n",
    "__getnewargs__', '__getstate__', '__gt__', '__hash__', '__index__', '__init__', '__init_subclass__', '__int__',\n",
    "'__invert__', '__le__', '__lshift__', '__lt__', '__mod__', '__mul__', '__ne__', '__neg__', '__new__', '__or__',\n",
    "'__pos__', '__pow__', '__radd__', '__rand__', '__rdivmod__', '__reduce__', '__reduce_ex__', '__repr__',\n",
    "'__rfloordiv__', '__rlshift__', '__rmod__', '__rmul__', '__ror__', '__round__', '__rpow__', '__rrshift__',\n",
    "'__rshift__', '__rsub__', '__rtruediv__', '__rxor__', '__setattr__', '__sizeof__', '__str__', '__sub__',\n",
    "'__subclasshook__', '__truediv__', '__trunc__', '__xor__', 'as_integer_ratio', 'bit_count', 'bit_length',\n",
    "'conjugate', 'denominator', 'from_bytes', 'imag', 'numerator', 'real', 'to_bytes']\n",
    "\n",
    "\"\"\""
   ]
  },
  {
   "cell_type": "code",
   "execution_count": 36,
   "id": "474d0a4a",
   "metadata": {},
   "outputs": [
    {
     "name": "stdout",
     "output_type": "stream",
     "text": [
      "Nome:  Franklin\n",
      "Sobrenome:  Albuquerque\n"
     ]
    }
   ],
   "source": [
    "# Declare uma variável nome atribuindo a ela seu nome completo:\n",
    "\n",
    "\n",
    "nomeCompleto = \"Franklin Albuquerque\"\n",
    "nome, sobrenome = nomeCompleto.split()\n",
    "print(\"Nome: \", nome)\n",
    "print(\"Sobrenome: \", sobrenome)\n"
   ]
  },
  {
   "cell_type": "code",
   "execution_count": 37,
   "id": "8f6dddab",
   "metadata": {},
   "outputs": [
    {
     "name": "stdout",
     "output_type": "stream",
     "text": [
      "Albuquerque antecede Franklin em ordem alfabética\n"
     ]
    }
   ],
   "source": [
    "# Verifique qual das duas novas variáveis antecede a outra na ordem\n",
    "# alfabética;\n",
    "\n",
    "\n",
    "if nome < sobrenome:\n",
    "    print(f\"{nome} antecede {sobrenome} em ordem alfabética\")\n",
    "elif nome > sobrenome:\n",
    "    print(f\"{sobrenome} antecede {nome} em ordem alfabética\")\n",
    "else:\n",
    "    print(f\"Nome e sobrenome são iguais!\")\n",
    "\n"
   ]
  },
  {
   "cell_type": "code",
   "execution_count": 39,
   "id": "5af98bb9",
   "metadata": {},
   "outputs": [
    {
     "name": "stdout",
     "output_type": "stream",
     "text": [
      "O nome: Franklin possui 8 caracteres\n",
      "O sobrenome: Albuquerque possui 11 caracteres\n"
     ]
    }
   ],
   "source": [
    "# erifique a quantidade de caracteres de cada uma \n",
    "# das novas variáveis:\n",
    "\n",
    "\n",
    "nomeCompleto = \"Franklin Albuquerque\"\n",
    "nome, sobrenome = nomeCompleto.split()\n",
    "\n",
    "tamanho_nome = len(nome)\n",
    "tamanho_sobrenome = len(sobrenome)\n",
    "\n",
    "print(f\"O nome: {nome} possui {tamanho_nome} caracteres\")\n",
    "print(f\"O sobrenome: {sobrenome} possui {tamanho_sobrenome} caracteres\")"
   ]
  },
  {
   "cell_type": "code",
   "execution_count": 42,
   "id": "608e78d5",
   "metadata": {},
   "outputs": [
    {
     "name": "stdout",
     "output_type": "stream",
     "text": [
      "Franklin não é um palíndromo.\n"
     ]
    }
   ],
   "source": [
    "# Verifique se seu nome é uma palíndromo:\n",
    "\n",
    "# Verificando se a string é um palíndromo\n",
    "if nome == nome[::-1]:\n",
    "    print(f\"{nome} é um palíndromo.\")\n",
    "else:\n",
    "    print(f\"{nome} não é um palíndromo.\")\n"
   ]
  },
  {
   "cell_type": "code",
   "execution_count": null,
   "id": "428bb463",
   "metadata": {},
   "outputs": [],
   "source": []
  }
 ],
 "metadata": {
  "kernelspec": {
   "display_name": "Python 3 (ipykernel)",
   "language": "python",
   "name": "python3"
  },
  "language_info": {
   "codemirror_mode": {
    "name": "ipython",
    "version": 3
   },
   "file_extension": ".py",
   "mimetype": "text/x-python",
   "name": "python",
   "nbconvert_exporter": "python",
   "pygments_lexer": "ipython3",
   "version": "3.11.5"
  }
 },
 "nbformat": 4,
 "nbformat_minor": 5
}
