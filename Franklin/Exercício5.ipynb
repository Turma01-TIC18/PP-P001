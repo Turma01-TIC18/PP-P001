{
 "cells": [
  {
   "cell_type": "code",
   "execution_count": 6,
   "id": "5aee8533",
   "metadata": {},
   "outputs": [
    {
     "name": "stdout",
     "output_type": "stream",
     "text": [
      "Soma: 17.0\n",
      "Subtração: 8.0\n",
      "Multiplicação: 56.25\n",
      "Divisão: 2.7777777777777777\n",
      "Exponenciação: 86316.74575031098\n",
      "Módulo: 3.5\n"
     ]
    }
   ],
   "source": [
    "# Demonstre como funcionam os operadores aritméticos e aritméticos\n",
    "# compostos em Python:\n",
    "\n",
    "x = 12.5\n",
    "y = 4.5\n",
    "\n",
    "# Operadores aritméticos:\n",
    "soma = x + y\n",
    "subtracao = x - y\n",
    "multiplicacao = x * y\n",
    "divisao = x / y\n",
    "exponenciacao = x ** y\n",
    "restoDivisao = x % y\n",
    "\n",
    "print(\"Soma:\", soma)\n",
    "print(\"Subtração:\", subtracao)\n",
    "print(\"Multiplicação:\", multiplicacao)\n",
    "print(\"Divisão:\", divisao)\n",
    "print(\"Exponenciação:\", exponenciacao)\n",
    "print(\"Módulo:\", restoDivisao)\n"
   ]
  },
  {
   "cell_type": "code",
   "execution_count": 7,
   "id": "7dca7f0b",
   "metadata": {},
   "outputs": [
    {
     "name": "stdout",
     "output_type": "stream",
     "text": [
      "Valor de x atualizado: 3.0\n"
     ]
    }
   ],
   "source": [
    "# Operadores aritméticos compostos:\n",
    "x = 3\n",
    "y = 5\n",
    "\n",
    "\n",
    "\n",
    "x += y \n",
    "x -= y  \n",
    "x *= y  \n",
    "x /= y  \n",
    "x **= y  \n",
    "x %= y  \n",
    "\n",
    "print(\"Valor de x atualizado:\", x)\n"
   ]
  },
  {
   "cell_type": "code",
   "execution_count": 11,
   "id": "eb171355",
   "metadata": {},
   "outputs": [
    {
     "name": "stdout",
     "output_type": "stream",
     "text": [
      "Maior potência de 2 representável: 1023.1538532253076\n",
      "Menor potência de 2 representável: -1019.8319251304202\n"
     ]
    }
   ],
   "source": [
    "# Qual a maior e a\n",
    "# menor potência de 2 que pode ser representada com variáveis de\n",
    "# ponto flutuante:\n",
    "\n",
    "import sys\n",
    "import math\n",
    "\n",
    "maior_potencia = sys.float_info.max_10_exp * math.log2(10)\n",
    "\n",
    "menor_potencia = sys.float_info.min_10_exp * math.log2(10)\n",
    "\n",
    "print(\"Maior potência de 2 representável:\", maior_potencia)\n",
    "print(\"Menor potência de 2 representável:\", menor_potencia)\n"
   ]
  },
  {
   "cell_type": "code",
   "execution_count": 13,
   "id": "f7e18d86",
   "metadata": {},
   "outputs": [
    {
     "name": "stdout",
     "output_type": "stream",
     "text": [
      "Valor de 'a': 10.0\n",
      "Valor de 'b': 21.0\n"
     ]
    }
   ],
   "source": [
    "# As variáveis numéricas são imutáveis:\n",
    "\n",
    "a = 10.00\n",
    "b = a  \n",
    "\n",
    "b = 20.00\n",
    "b +=1.00\n",
    "\n",
    "print(\"Valor de 'a':\", a) #a continua com o mesmo valor\n",
    "print(\"Valor de 'b':\", b) #b  é alterado e incrementado sem mudar 'a'\n",
    "\n"
   ]
  },
  {
   "cell_type": "code",
   "execution_count": 14,
   "id": "95db049f",
   "metadata": {},
   "outputs": [
    {
     "data": {
      "text/plain": [
       "['__abs__',\n",
       " '__add__',\n",
       " '__bool__',\n",
       " '__ceil__',\n",
       " '__class__',\n",
       " '__delattr__',\n",
       " '__dir__',\n",
       " '__divmod__',\n",
       " '__doc__',\n",
       " '__eq__',\n",
       " '__float__',\n",
       " '__floor__',\n",
       " '__floordiv__',\n",
       " '__format__',\n",
       " '__ge__',\n",
       " '__getattribute__',\n",
       " '__getformat__',\n",
       " '__getnewargs__',\n",
       " '__getstate__',\n",
       " '__gt__',\n",
       " '__hash__',\n",
       " '__init__',\n",
       " '__init_subclass__',\n",
       " '__int__',\n",
       " '__le__',\n",
       " '__lt__',\n",
       " '__mod__',\n",
       " '__mul__',\n",
       " '__ne__',\n",
       " '__neg__',\n",
       " '__new__',\n",
       " '__pos__',\n",
       " '__pow__',\n",
       " '__radd__',\n",
       " '__rdivmod__',\n",
       " '__reduce__',\n",
       " '__reduce_ex__',\n",
       " '__repr__',\n",
       " '__rfloordiv__',\n",
       " '__rmod__',\n",
       " '__rmul__',\n",
       " '__round__',\n",
       " '__rpow__',\n",
       " '__rsub__',\n",
       " '__rtruediv__',\n",
       " '__setattr__',\n",
       " '__sizeof__',\n",
       " '__str__',\n",
       " '__sub__',\n",
       " '__subclasshook__',\n",
       " '__truediv__',\n",
       " '__trunc__',\n",
       " 'as_integer_ratio',\n",
       " 'conjugate',\n",
       " 'fromhex',\n",
       " 'hex',\n",
       " 'imag',\n",
       " 'is_integer',\n",
       " 'real']"
      ]
     },
     "execution_count": 14,
     "metadata": {},
     "output_type": "execute_result"
    }
   ],
   "source": [
    "y = 10.00\n",
    "\n",
    "dir(y)"
   ]
  },
  {
   "cell_type": "code",
   "execution_count": null,
   "id": "563cc98f",
   "metadata": {},
   "outputs": [],
   "source": []
  }
 ],
 "metadata": {
  "kernelspec": {
   "display_name": "Python 3 (ipykernel)",
   "language": "python",
   "name": "python3"
  },
  "language_info": {
   "codemirror_mode": {
    "name": "ipython",
    "version": 3
   },
   "file_extension": ".py",
   "mimetype": "text/x-python",
   "name": "python",
   "nbconvert_exporter": "python",
   "pygments_lexer": "ipython3",
   "version": "3.11.5"
  }
 },
 "nbformat": 4,
 "nbformat_minor": 5
}
