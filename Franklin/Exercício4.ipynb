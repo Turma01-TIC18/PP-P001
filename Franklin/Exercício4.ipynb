{
 "cells": [
  {
   "cell_type": "code",
   "execution_count": 1,
   "id": "e9c2f491",
   "metadata": {},
   "outputs": [
    {
     "name": "stdout",
     "output_type": "stream",
     "text": [
      "Nome:  Franklin\n",
      "Sobrenome:  Albuquerque\n"
     ]
    }
   ],
   "source": [
    "# Declare uma variável nome atribuindo a ela seu nome completo:\n",
    "\n",
    "\n",
    "nomeCompleto = \"Franklin Albuquerque\"\n",
    "nome, sobrenome = nomeCompleto.split()\n",
    "print(\"Nome: \", nome)\n",
    "print(\"Sobrenome: \", sobrenome)"
   ]
  },
  {
   "cell_type": "code",
   "execution_count": 2,
   "id": "09657163",
   "metadata": {},
   "outputs": [
    {
     "name": "stdout",
     "output_type": "stream",
     "text": [
      "Albuquerque antecede Franklin em ordem alfabética\n"
     ]
    }
   ],
   "source": [
    "# Verifique qual das duas novas variáveis antecede a outra na ordem\n",
    "# alfabética;\n",
    "\n",
    "\n",
    "if nome < sobrenome:\n",
    "    print(f\"{nome} antecede {sobrenome} em ordem alfabética\")\n",
    "elif nome > sobrenome:\n",
    "    print(f\"{sobrenome} antecede {nome} em ordem alfabética\")\n",
    "else:\n",
    "    print(f\"Nome e sobrenome são iguais!\")"
   ]
  },
  {
   "cell_type": "code",
   "execution_count": 3,
   "id": "7c0a0a17",
   "metadata": {},
   "outputs": [
    {
     "name": "stdout",
     "output_type": "stream",
     "text": [
      "O nome: Franklin possui 8 caracteres\n",
      "O sobrenome: Albuquerque possui 11 caracteres\n"
     ]
    }
   ],
   "source": [
    "# Verifique a quantidade de caracteres de cada uma \n",
    "# das novas variáveis:\n",
    "\n",
    "\n",
    "nomeCompleto = \"Franklin Albuquerque\"\n",
    "nome, sobrenome = nomeCompleto.split()\n",
    "\n",
    "tamanho_nome = len(nome)\n",
    "tamanho_sobrenome = len(sobrenome)\n",
    "\n",
    "print(f\"O nome: {nome} possui {tamanho_nome} caracteres\")\n",
    "print(f\"O sobrenome: {sobrenome} possui {tamanho_sobrenome} caracteres\")"
   ]
  },
  {
   "cell_type": "code",
   "execution_count": 4,
   "id": "5f72055d",
   "metadata": {},
   "outputs": [
    {
     "name": "stdout",
     "output_type": "stream",
     "text": [
      "Franklin não é um palíndromo.\n"
     ]
    }
   ],
   "source": [
    "# Verifique se seu nome é uma palíndromo:\n",
    "\n",
    "# Verificando se a string é um palíndromo\n",
    "if nome == nome[::-1]:\n",
    "    print(f\"{nome} é um palíndromo.\")\n",
    "else:\n",
    "    print(f\"{nome} não é um palíndromo.\")"
   ]
  }
 ],
 "metadata": {
  "kernelspec": {
   "display_name": "Python 3 (ipykernel)",
   "language": "python",
   "name": "python3"
  },
  "language_info": {
   "codemirror_mode": {
    "name": "ipython",
    "version": 3
   },
   "file_extension": ".py",
   "mimetype": "text/x-python",
   "name": "python",
   "nbconvert_exporter": "python",
   "pygments_lexer": "ipython3",
   "version": "3.11.5"
  }
 },
 "nbformat": 4,
 "nbformat_minor": 5
}
