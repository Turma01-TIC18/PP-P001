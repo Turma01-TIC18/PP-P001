{
 "cells": [
  {
   "cell_type": "code",
   "execution_count": 1,
   "id": "139fa911",
   "metadata": {},
   "outputs": [
    {
     "name": "stdout",
     "output_type": "stream",
     "text": [
      "'Decimal: 0' - 48\n",
      "'Decimal: 1' - 49\n",
      "'Decimal: 2' - 50\n",
      "'Decimal: 3' - 51\n",
      "'Decimal: 4' - 52\n",
      "'Decimal: 5' - 53\n",
      "'Decimal: 6' - 54\n",
      "'Decimal: 7' - 55\n",
      "'Decimal: 8' - 56\n",
      "'Decimal: 9' - 57\n"
     ]
    }
   ],
   "source": [
    "#Caracteres numéricos que aparecem na tabela ASCII:\n",
    "\n",
    "for i in range(10):\n",
    "    print(f\"'Decimal: {chr(ord('0') + i)}' - {ord('0') + i}\")\n",
    "    "
   ]
  },
  {
   "cell_type": "code",
   "execution_count": 2,
   "id": "169af5b5",
   "metadata": {},
   "outputs": [
    {
     "name": "stdout",
     "output_type": "stream",
     "text": [
      "'Octal: 0o60, Hexadecimal: 0x30\n",
      "'Octal: 0o61, Hexadecimal: 0x31\n",
      "'Octal: 0o62, Hexadecimal: 0x32\n",
      "'Octal: 0o63, Hexadecimal: 0x33\n",
      "'Octal: 0o64, Hexadecimal: 0x34\n",
      "'Octal: 0o65, Hexadecimal: 0x35\n",
      "'Octal: 0o66, Hexadecimal: 0x36\n",
      "'Octal: 0o67, Hexadecimal: 0x37\n",
      "'Octal: 0o70, Hexadecimal: 0x38\n",
      "'Octal: 0o71, Hexadecimal: 0x39\n"
     ]
    }
   ],
   "source": [
    "#Código numérico em octal e hexadecimal:\n",
    "\n",
    "for i in range(10):\n",
    "    codDecimal = ord('0') + i\n",
    "    octal = codDecimal\n",
    "    hexadecimal = codDecimal\n",
    "    \n",
    "    print(f\"'Octal: {oct(octal)}, Hexadecimal: {hex(hexadecimal)}\")"
   ]
  },
  {
   "cell_type": "code",
   "execution_count": 3,
   "id": "c650ffea",
   "metadata": {},
   "outputs": [
    {
     "name": "stdout",
     "output_type": "stream",
     "text": [
      "Digite um caractere: c\n",
      "'c' - Decimal: 99, Octal: 0o143, Hexadecimal: 0x63\n"
     ]
    }
   ],
   "source": [
    "# Recebe um caractere do usuário\n",
    "caractere = input(\"Digite um caractere: \")\n",
    "\n",
    "codDecimal = ord(caractere)\n",
    "octal = codDecimal\n",
    "hexadecimal = codDecimal\n",
    "\n",
    "\n",
    "print(f\"'{caractere}' - Decimal: {codDecimal}, Octal: {oct(octal)}, Hexadecimal: {hex(hexadecimal)}\")"
   ]
  },
  {
   "cell_type": "code",
   "execution_count": 4,
   "id": "500386bf",
   "metadata": {},
   "outputs": [
    {
     "name": "stdout",
     "output_type": "stream",
     "text": [
      "Digite ç ou ã: ç\n",
      "'ç' - Decimal: 231, Octal: 0o347, Hexadecimal: 0xe7\n"
     ]
    }
   ],
   "source": [
    "\"\"\"\n",
    "Em Python 3, o encoding padrão é UTF-8, que é capaz de \n",
    "representar uma ampla gama de caracteres, \n",
    "incluindo caracteres especiais de diferentes idiomas. I\n",
    "sso significa que você geralmente não terá problemas ao \n",
    "lidar com caracteres como 'ç' e 'ã' em strings, \n",
    "desde que esteja usando Unicode.\n",
    "\n",
    "\"\"\"\n",
    "\n",
    "#Não ocorre nenhum problema ou digitar 'ã' ou 'ç'.\n",
    "\n",
    "caractere = input(\"Digite ç ou ã: \")\n",
    "\n",
    "codDecimal = ord(caractere)\n",
    "octal = codDecimal\n",
    "hexadecimal = codDecimal\n",
    "\n",
    "\n",
    "print(f\"'{caractere}' - Decimal: {codDecimal}, Octal: {oct(octal)}, Hexadecimal: {hex(hexadecimal)}\")"
   ]
  },
  {
   "cell_type": "code",
   "execution_count": null,
   "id": "829f1783",
   "metadata": {},
   "outputs": [],
   "source": []
  }
 ],
 "metadata": {
  "kernelspec": {
   "display_name": "Python 3 (ipykernel)",
   "language": "python",
   "name": "python3"
  },
  "language_info": {
   "codemirror_mode": {
    "name": "ipython",
    "version": 3
   },
   "file_extension": ".py",
   "mimetype": "text/x-python",
   "name": "python",
   "nbconvert_exporter": "python",
   "pygments_lexer": "ipython3",
   "version": "3.11.5"
  }
 },
 "nbformat": 4,
 "nbformat_minor": 5
}
