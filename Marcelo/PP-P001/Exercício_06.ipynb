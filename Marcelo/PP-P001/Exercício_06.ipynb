{
 "cells": [
  {
   "cell_type": "code",
   "execution_count": 4,
   "id": "458cc9e5",
   "metadata": {},
   "outputs": [],
   "source": [
    "# Manipulando Listas:\n",
    "\n",
    "L = [1,2,3,4,5,6,7,8,9]"
   ]
  },
  {
   "cell_type": "code",
   "execution_count": 12,
   "id": "a691538c",
   "metadata": {},
   "outputs": [
    {
     "name": "stdout",
     "output_type": "stream",
     "text": [
      "[9, 8, 7, 6, 5, 4, 3, 2, 1]\n",
      "[9]\n",
      "[1, 2, 3, 4, 5, 6, 7, 8]\n",
      "[9, 7, 5, 3, 1]\n",
      "[8, 9]\n",
      "[1, 2, 3, 4, 5, 6, 7]\n"
     ]
    }
   ],
   "source": [
    "# Resultados apresentados: \n",
    "\n",
    "print(L[::-1]) #inverte o números da lista\n",
    "print(L[-1::]) #exibe apenas o último elemento ignorando os demais números\n",
    "print(L[:-1:]) #remove apenas o último elemento e exibe o restante da lista\n",
    "print(L[::-2]) #inverte a lista ignorando o elementos a cada dois indices (Removeu 8,6,4,2)\n",
    "print(L[-2::]) #exibe apenas os dois últimos elementos ignorando os demais números\n",
    "print(L[:-2:]) #remove apneas os dois últimos elementos e exibe o restante da lista"
   ]
  },
  {
   "cell_type": "code",
   "execution_count": 22,
   "id": "f0a55e89",
   "metadata": {},
   "outputs": [
    {
     "name": "stdout",
     "output_type": "stream",
     "text": [
      "Favor digitar o seu ano de nascimento? 2006\n",
      "Seu signo é: Cão\n"
     ]
    }
   ],
   "source": [
    "# Signo com base no ano de nascimento:\n",
    "\n",
    "ano = int(input(\"Favor digitar o seu ano de nascimento? \"))\n",
    "\n",
    "anoSigno = ano % 12\n",
    "\n",
    "signosBaseAno = {\n",
    "    0: 'Macaco',\n",
    "    1: 'Galo',\n",
    "    2: 'Cão',\n",
    "    3: 'Porco',\n",
    "    4: 'Rato',\n",
    "    5: 'Boi',\n",
    "    6: 'Tigre',\n",
    "    7: 'Coelho',\n",
    "    8: 'Dragão',\n",
    "    9: 'Serpente',\n",
    "    10: 'Cavalo',\n",
    "    11: 'Carneiro'\n",
    "}\n",
    "\n",
    "for indice, signo in signosBaseAno.items():\n",
    "    if indice == anoSigno:\n",
    "        print(\"Seu signo é:\", signo)\n",
    "        break \n"
   ]
  },
  {
   "cell_type": "code",
   "execution_count": null,
   "id": "4dba578c",
   "metadata": {},
   "outputs": [],
   "source": []
  }
 ],
 "metadata": {
  "kernelspec": {
   "display_name": "Python 3 (ipykernel)",
   "language": "python",
   "name": "python3"
  },
  "language_info": {
   "codemirror_mode": {
    "name": "ipython",
    "version": 3
   },
   "file_extension": ".py",
   "mimetype": "text/x-python",
   "name": "python",
   "nbconvert_exporter": "python",
   "pygments_lexer": "ipython3",
   "version": "3.11.5"
  }
 },
 "nbformat": 4,
 "nbformat_minor": 5
}
